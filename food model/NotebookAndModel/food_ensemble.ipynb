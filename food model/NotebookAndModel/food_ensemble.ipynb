{
  "cells": [
    {
      "cell_type": "code",
      "execution_count": 1,
      "metadata": {
        "colab": {
          "base_uri": "https://localhost:8080/"
        },
        "id": "mr-6zBiux3Se",
        "outputId": "6c31d206-a555-477e-a52a-aade248b150d"
      },
      "outputs": [
        {
          "name": "stdout",
          "output_type": "stream",
          "text": [
            "Defaulting to user installation because normal site-packages is not writeableNote: you may need to restart the kernel to use updated packages.\n",
            "\n",
            "Collecting openpyxl\n",
            "  Downloading openpyxl-3.1.5-py2.py3-none-any.whl.metadata (2.5 kB)\n",
            "Collecting et-xmlfile (from openpyxl)\n",
            "  Downloading et_xmlfile-1.1.0-py3-none-any.whl.metadata (1.8 kB)\n",
            "Downloading openpyxl-3.1.5-py2.py3-none-any.whl (250 kB)\n",
            "   ---------------------------------------- 0.0/250.9 kB ? eta -:--:--\n",
            "   ---------------------------------------- 0.0/250.9 kB ? eta -:--:--\n",
            "   ---- ----------------------------------- 30.7/250.9 kB 1.3 MB/s eta 0:00:01\n",
            "   ---- ----------------------------------- 30.7/250.9 kB 1.3 MB/s eta 0:00:01\n",
            "   ------ -------------------------------- 41.0/250.9 kB 245.8 kB/s eta 0:00:01\n",
            "   --------- ----------------------------- 61.4/250.9 kB 326.1 kB/s eta 0:00:01\n",
            "   ------------ -------------------------- 81.9/250.9 kB 381.3 kB/s eta 0:00:01\n",
            "   ----------------- -------------------- 112.6/250.9 kB 435.7 kB/s eta 0:00:01\n",
            "   --------------------- ---------------- 143.4/250.9 kB 448.2 kB/s eta 0:00:01\n",
            "   ----------------------------- -------- 194.6/250.9 kB 512.0 kB/s eta 0:00:01\n",
            "   ---------------------------------- --- 225.3/250.9 kB 528.4 kB/s eta 0:00:01\n",
            "   -------------------------------------  245.8/250.9 kB 537.7 kB/s eta 0:00:01\n",
            "   -------------------------------------- 250.9/250.9 kB 496.2 kB/s eta 0:00:00\n",
            "Downloading et_xmlfile-1.1.0-py3-none-any.whl (4.7 kB)\n",
            "Installing collected packages: et-xmlfile, openpyxl\n",
            "Successfully installed et-xmlfile-1.1.0 openpyxl-3.1.5\n"
          ]
        },
        {
          "name": "stderr",
          "output_type": "stream",
          "text": [
            "\n",
            "[notice] A new release of pip is available: 24.0 -> 24.1.1\n",
            "[notice] To update, run: python.exe -m pip install --upgrade pip\n"
          ]
        }
      ],
      "source": [
        "pip install openpyxl"
      ]
    },
    {
      "cell_type": "code",
      "execution_count": 3,
      "metadata": {},
      "outputs": [
        {
          "name": "stdout",
          "output_type": "stream",
          "text": [
            "Defaulting to user installation because normal site-packages is not writeable\n",
            "Requirement already satisfied: numpy in c:\\users\\user\\appdata\\local\\packages\\pythonsoftwarefoundation.python.3.12_qbz5n2kfra8p0\\localcache\\local-packages\\python312\\site-packages (1.26.4)\n",
            "Requirement already satisfied: pandas in c:\\users\\user\\appdata\\local\\packages\\pythonsoftwarefoundation.python.3.12_qbz5n2kfra8p0\\localcache\\local-packages\\python312\\site-packages (2.2.0)\n",
            "Requirement already satisfied: matplotlib in c:\\users\\user\\appdata\\local\\packages\\pythonsoftwarefoundation.python.3.12_qbz5n2kfra8p0\\localcache\\local-packages\\python312\\site-packages (3.8.2)\n",
            "Requirement already satisfied: seaborn in c:\\users\\user\\appdata\\local\\packages\\pythonsoftwarefoundation.python.3.12_qbz5n2kfra8p0\\localcache\\local-packages\\python312\\site-packages (0.13.2)\n",
            "Requirement already satisfied: openpyxl in c:\\users\\user\\appdata\\local\\packages\\pythonsoftwarefoundation.python.3.12_qbz5n2kfra8p0\\localcache\\local-packages\\python312\\site-packages (3.1.5)\n",
            "Requirement already satisfied: scikit-learn in c:\\users\\user\\appdata\\local\\packages\\pythonsoftwarefoundation.python.3.12_qbz5n2kfra8p0\\localcache\\local-packages\\python312\\site-packages (1.4.0)\n",
            "Requirement already satisfied: python-dateutil>=2.8.2 in c:\\users\\user\\appdata\\local\\packages\\pythonsoftwarefoundation.python.3.12_qbz5n2kfra8p0\\localcache\\local-packages\\python312\\site-packages (from pandas) (2.8.2)\n",
            "Requirement already satisfied: pytz>=2020.1 in c:\\users\\user\\appdata\\local\\packages\\pythonsoftwarefoundation.python.3.12_qbz5n2kfra8p0\\localcache\\local-packages\\python312\\site-packages (from pandas) (2024.1)\n",
            "Requirement already satisfied: tzdata>=2022.7 in c:\\users\\user\\appdata\\local\\packages\\pythonsoftwarefoundation.python.3.12_qbz5n2kfra8p0\\localcache\\local-packages\\python312\\site-packages (from pandas) (2023.4)\n",
            "Requirement already satisfied: contourpy>=1.0.1 in c:\\users\\user\\appdata\\local\\packages\\pythonsoftwarefoundation.python.3.12_qbz5n2kfra8p0\\localcache\\local-packages\\python312\\site-packages (from matplotlib) (1.2.0)\n",
            "Requirement already satisfied: cycler>=0.10 in c:\\users\\user\\appdata\\local\\packages\\pythonsoftwarefoundation.python.3.12_qbz5n2kfra8p0\\localcache\\local-packages\\python312\\site-packages (from matplotlib) (0.12.1)\n",
            "Requirement already satisfied: fonttools>=4.22.0 in c:\\users\\user\\appdata\\local\\packages\\pythonsoftwarefoundation.python.3.12_qbz5n2kfra8p0\\localcache\\local-packages\\python312\\site-packages (from matplotlib) (4.47.2)\n",
            "Requirement already satisfied: kiwisolver>=1.3.1 in c:\\users\\user\\appdata\\local\\packages\\pythonsoftwarefoundation.python.3.12_qbz5n2kfra8p0\\localcache\\local-packages\\python312\\site-packages (from matplotlib) (1.4.5)\n",
            "Requirement already satisfied: packaging>=20.0 in c:\\users\\user\\appdata\\local\\packages\\pythonsoftwarefoundation.python.3.12_qbz5n2kfra8p0\\localcache\\local-packages\\python312\\site-packages (from matplotlib) (24.0)\n",
            "Requirement already satisfied: pillow>=8 in c:\\users\\user\\appdata\\local\\packages\\pythonsoftwarefoundation.python.3.12_qbz5n2kfra8p0\\localcache\\local-packages\\python312\\site-packages (from matplotlib) (10.2.0)\n",
            "Requirement already satisfied: pyparsing>=2.3.1 in c:\\users\\user\\appdata\\local\\packages\\pythonsoftwarefoundation.python.3.12_qbz5n2kfra8p0\\localcache\\local-packages\\python312\\site-packages (from matplotlib) (3.1.1)\n",
            "Requirement already satisfied: et-xmlfile in c:\\users\\user\\appdata\\local\\packages\\pythonsoftwarefoundation.python.3.12_qbz5n2kfra8p0\\localcache\\local-packages\\python312\\site-packages (from openpyxl) (1.1.0)\n",
            "Requirement already satisfied: scipy>=1.6.0 in c:\\users\\user\\appdata\\local\\packages\\pythonsoftwarefoundation.python.3.12_qbz5n2kfra8p0\\localcache\\local-packages\\python312\\site-packages (from scikit-learn) (1.12.0)\n",
            "Requirement already satisfied: joblib>=1.2.0 in c:\\users\\user\\appdata\\local\\packages\\pythonsoftwarefoundation.python.3.12_qbz5n2kfra8p0\\localcache\\local-packages\\python312\\site-packages (from scikit-learn) (1.3.2)\n",
            "Requirement already satisfied: threadpoolctl>=2.0.0 in c:\\users\\user\\appdata\\local\\packages\\pythonsoftwarefoundation.python.3.12_qbz5n2kfra8p0\\localcache\\local-packages\\python312\\site-packages (from scikit-learn) (3.2.0)\n",
            "Requirement already satisfied: six>=1.5 in c:\\users\\user\\appdata\\local\\packages\\pythonsoftwarefoundation.python.3.12_qbz5n2kfra8p0\\localcache\\local-packages\\python312\\site-packages (from python-dateutil>=2.8.2->pandas) (1.16.0)\n",
            "Note: you may need to restart the kernel to use updated packages.\n"
          ]
        },
        {
          "name": "stderr",
          "output_type": "stream",
          "text": [
            "\n",
            "[notice] A new release of pip is available: 24.0 -> 24.1.1\n",
            "[notice] To update, run: python.exe -m pip install --upgrade pip\n"
          ]
        }
      ],
      "source": [
        "pip install numpy pandas matplotlib seaborn openpyxl scikit-learn"
      ]
    },
    {
      "cell_type": "code",
      "execution_count": 8,
      "metadata": {
        "id": "6wHic7FsyB2t"
      },
      "outputs": [],
      "source": [
        "# imported all the libraries\n",
        "import numpy as np\n",
        "import pandas as pd\n",
        "import matplotlib.pyplot as plt\n",
        "%matplotlib inline\n",
        "import seaborn as sns\n",
        "import openpyxl\n",
        "import pandas as pd\n",
        "import seaborn as sns\n",
        "import matplotlib.pyplot as plt\n",
        "from sklearn.model_selection import train_test_split\n",
        "from sklearn.naive_bayes import GaussianNB\n",
        "from sklearn.metrics import confusion_matrix, accuracy_score, precision_score, f1_score, recall_score\n",
        "from sklearn.neighbors import KNeighborsClassifier\n",
        "from sklearn.tree import DecisionTreeClassifier\n",
        "from sklearn.ensemble import RandomForestClassifier, VotingClassifier\n",
        "from sklearn.tree import DecisionTreeClassifier\n",
        "from sklearn.neighbors import KNeighborsClassifier\n",
        "from sklearn.svm import SVC\n",
        "from sklearn.naive_bayes import GaussianNB\n",
        "from sklearn.metrics import accuracy_score, precision_score, recall_score, f1_score, confusion_matrix\n",
        "import matplotlib.pyplot as plt\n",
        "import seaborn as sns\n",
        "from sklearn.preprocessing import LabelEncoder"
      ]
    },
    {
      "cell_type": "code",
      "execution_count": 53,
      "metadata": {},
      "outputs": [
        {
          "data": {
            "text/html": [
              "<div>\n",
              "<style scoped>\n",
              "    .dataframe tbody tr th:only-of-type {\n",
              "        vertical-align: middle;\n",
              "    }\n",
              "\n",
              "    .dataframe tbody tr th {\n",
              "        vertical-align: top;\n",
              "    }\n",
              "\n",
              "    .dataframe thead th {\n",
              "        text-align: right;\n",
              "    }\n",
              "</style>\n",
              "<table border=\"1\" class=\"dataframe\">\n",
              "  <thead>\n",
              "    <tr style=\"text-align: right;\">\n",
              "      <th></th>\n",
              "      <th>FoodCategory</th>\n",
              "      <th>FoodItem</th>\n",
              "      <th>per100grams</th>\n",
              "      <th>Cals_per100grams</th>\n",
              "      <th>KJ_per100grams</th>\n",
              "    </tr>\n",
              "  </thead>\n",
              "  <tbody>\n",
              "    <tr>\n",
              "      <th>0</th>\n",
              "      <td>CannedFruit</td>\n",
              "      <td>Applesauce</td>\n",
              "      <td>100g</td>\n",
              "      <td>62 cal</td>\n",
              "      <td>260 kJ</td>\n",
              "    </tr>\n",
              "    <tr>\n",
              "      <th>1</th>\n",
              "      <td>CannedFruit</td>\n",
              "      <td>Canned Apricots</td>\n",
              "      <td>100g</td>\n",
              "      <td>48 cal</td>\n",
              "      <td>202 kJ</td>\n",
              "    </tr>\n",
              "    <tr>\n",
              "      <th>2</th>\n",
              "      <td>CannedFruit</td>\n",
              "      <td>Canned Blackberries</td>\n",
              "      <td>100g</td>\n",
              "      <td>92 cal</td>\n",
              "      <td>386 kJ</td>\n",
              "    </tr>\n",
              "    <tr>\n",
              "      <th>3</th>\n",
              "      <td>CannedFruit</td>\n",
              "      <td>Canned Blueberries</td>\n",
              "      <td>100g</td>\n",
              "      <td>88 cal</td>\n",
              "      <td>370 kJ</td>\n",
              "    </tr>\n",
              "    <tr>\n",
              "      <th>4</th>\n",
              "      <td>CannedFruit</td>\n",
              "      <td>Canned Cherries</td>\n",
              "      <td>100g</td>\n",
              "      <td>54 cal</td>\n",
              "      <td>227 kJ</td>\n",
              "    </tr>\n",
              "  </tbody>\n",
              "</table>\n",
              "</div>"
            ],
            "text/plain": [
              "  FoodCategory             FoodItem per100grams Cals_per100grams  \\\n",
              "0  CannedFruit           Applesauce        100g           62 cal   \n",
              "1  CannedFruit      Canned Apricots        100g           48 cal   \n",
              "2  CannedFruit  Canned Blackberries        100g           92 cal   \n",
              "3  CannedFruit   Canned Blueberries        100g           88 cal   \n",
              "4  CannedFruit      Canned Cherries        100g           54 cal   \n",
              "\n",
              "  KJ_per100grams  \n",
              "0         260 kJ  \n",
              "1         202 kJ  \n",
              "2         386 kJ  \n",
              "3         370 kJ  \n",
              "4         227 kJ  "
            ]
          },
          "execution_count": 53,
          "metadata": {},
          "output_type": "execute_result"
        }
      ],
      "source": [
        "import pandas as pd\n",
        "from sklearn.model_selection import train_test_split\n",
        "from sklearn.ensemble import RandomForestRegressor\n",
        "from sklearn.preprocessing import LabelEncoder\n",
        "import pickle\n",
        "\n",
        "# Example data loading and preprocessing (replace with your actual data loading)\n",
        "data = pd.read_csv('calories.csv')\n",
        "data.head()\n",
        "data.drop('KJ_per100grams', axis=1, inplace=True)"
      ]
    },
    {
      "cell_type": "code",
      "execution_count": 57,
      "metadata": {},
      "outputs": [
        {
          "name": "stdout",
          "output_type": "stream",
          "text": [
            "      FoodCategory  FoodItem per100grams Cals_per100grams\n",
            "0                7        58         100               62\n",
            "1                7       307         100               48\n",
            "2                7       308         100               92\n",
            "3                7       309         100               88\n",
            "4                7       310         100               54\n",
            "...            ...       ...         ...              ...\n",
            "2220            37      1754         100              617\n",
            "2221            37      1788         100              233\n",
            "2222            37      1856         100              717\n",
            "2223            37      1876         100              180\n",
            "2224            37      1952         100              286\n",
            "\n",
            "[2225 rows x 4 columns]\n"
          ]
        }
      ],
      "source": [
        "# Clean up per100grams column\n",
        "# Clean up per100grams column\n",
        "data['per100grams'] = data['per100grams'].str.replace('g', '').str.replace('ml', '').str.strip()\n",
        "\n",
        "# Clean up Cals_per100grams column\n",
        "data['Cals_per100grams'] = data['Cals_per100grams'].str.replace('cal', '').str.replace('ml', '').str.strip()\n",
        "\n",
        "\n",
        "# Print the cleaned dataset\n",
        "print(data)"
      ]
    },
    {
      "cell_type": "code",
      "execution_count": 59,
      "metadata": {},
      "outputs": [],
      "source": [
        "# Label encode categorical features\n",
        "le_food_category = LabelEncoder()\n",
        "le_food_item = LabelEncoder()\n",
        "\n",
        "data['FoodCategory'] = le_food_category.fit_transform(data['FoodCategory'])\n",
        "data['FoodItem'] = le_food_item.fit_transform(data['FoodItem'])\n",
        "\n",
        "# Split data into training and testing sets\n",
        "X = data.drop(['Cals_per100grams'], axis=1)\n",
        "y = data['Cals_per100grams']\n",
        "X_train, X_test, y_train, y_test = train_test_split(X, y, test_size=0.2, random_state=42)\n",
        "\n",
        "# Train a RandomForestRegressor model\n",
        "model = RandomForestRegressor(n_estimators=100, random_state=42)\n",
        "model.fit(X_train, y_train)\n",
        "\n",
        "# Serialize the model to a file\n",
        "model_filename = 'cals_model.pkl'\n",
        "with open(model_filename, 'wb') as file:\n",
        "    pickle.dump(model, file)"
      ]
    },
    {
      "cell_type": "code",
      "execution_count": 60,
      "metadata": {},
      "outputs": [
        {
          "name": "stdout",
          "output_type": "stream",
          "text": [
            "Model training and serialization complete.\n"
          ]
        }
      ],
      "source": [
        "import pandas as pd\n",
        "from sklearn.model_selection import train_test_split\n",
        "from sklearn.ensemble import RandomForestRegressor\n",
        "from sklearn.preprocessing import LabelEncoder\n",
        "import pickle\n",
        "\n",
        "# Load the dataset\n",
        "data = pd.read_csv('calories.csv')\n",
        "\n",
        "# Clean up per100grams column\n",
        "data['per100grams'] = data['per100grams'].str.replace('g', '').str.replace('ml', '').str.strip()\n",
        "\n",
        "# Clean up Cals_per100grams column\n",
        "data['Cals_per100grams'] = data['Cals_per100grams'].str.replace('cal', '').str.replace('ml', '').str.strip()\n",
        "\n",
        "# Drop unnecessary columns\n",
        "data.drop(['KJ_per100grams'], axis=1, inplace=True)\n",
        "\n",
        "# Label encode categorical features\n",
        "le_food_category = LabelEncoder()\n",
        "le_food_item = LabelEncoder()\n",
        "\n",
        "data['FoodCategory'] = le_food_category.fit_transform(data['FoodCategory'])\n",
        "data['FoodItem'] = le_food_item.fit_transform(data['FoodItem'])\n",
        "\n",
        "# Save label encoders for later use in Flask app\n",
        "with open('le_food_category.pkl', 'wb') as le_file:\n",
        "    pickle.dump(le_food_category, le_file)\n",
        "\n",
        "with open('le_food_item.pkl', 'wb') as le_file:\n",
        "    pickle.dump(le_food_item, le_file)\n",
        "\n",
        "# Split data into features (X) and target (y)\n",
        "X = data.drop(['Cals_per100grams'], axis=1)\n",
        "y = data['Cals_per100grams']\n",
        "\n",
        "# Split data into training and testing sets\n",
        "X_train, X_test, y_train, y_test = train_test_split(X, y, test_size=0.2, random_state=42)\n",
        "\n",
        "# Train a RandomForestRegressor model\n",
        "model = RandomForestRegressor(n_estimators=100, random_state=42)\n",
        "model.fit(X_train, y_train)\n",
        "\n",
        "# Serialize the model to a file\n",
        "model_filename = 'cals_model.pkl'\n",
        "with open(model_filename, 'wb') as file:\n",
        "    pickle.dump(model, file)\n",
        "\n",
        "print(\"Model training and serialization complete.\")\n"
      ]
    }
  ],
  "metadata": {
    "colab": {
      "provenance": []
    },
    "kernelspec": {
      "display_name": "Python 3",
      "name": "python3"
    },
    "language_info": {
      "codemirror_mode": {
        "name": "ipython",
        "version": 3
      },
      "file_extension": ".py",
      "mimetype": "text/x-python",
      "name": "python",
      "nbconvert_exporter": "python",
      "pygments_lexer": "ipython3",
      "version": "3.12.4"
    }
  },
  "nbformat": 4,
  "nbformat_minor": 0
}
